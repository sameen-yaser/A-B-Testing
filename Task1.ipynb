{
  "nbformat": 4,
  "nbformat_minor": 0,
  "metadata": {
    "colab": {
      "provenance": []
    },
    "kernelspec": {
      "name": "python3",
      "display_name": "Python 3"
    },
    "language_info": {
      "name": "python"
    }
  },
  "cells": [
    {
      "cell_type": "code",
      "execution_count": 2,
      "metadata": {
        "colab": {
          "base_uri": "https://localhost:8080/"
        },
        "id": "owOJ3XJIxWb3",
        "outputId": "699e4b10-f8e6-4686-fb34-5270521c1f14"
      },
      "outputs": [
        {
          "output_type": "stream",
          "name": "stdout",
          "text": [
            "Conversion Rates:\n",
            "Version\n",
            "A    0.100\n",
            "B    0.152\n",
            "Name: Conversions, dtype: float64\n",
            "\n",
            "Two-Sample T-Test:\n",
            "T-statistic: -3.512911226002963\n",
            "P-value: 0.0004530761711250111\n",
            "\n",
            "Result: There is a statistically significant difference in conversion rates between Version A and Version B.\n",
            "Recommendation: Implement Version B as the new default homepage.\n"
          ]
        }
      ],
      "source": [
        "import numpy as np\n",
        "import pandas as pd\n",
        "from scipy.stats import ttest_ind\n",
        "\n",
        "# Simulate data for Version A and Version B\n",
        "np.random.seed(42)\n",
        "\n",
        "# Conversion rates for Version A and Version B\n",
        "conversion_rate_A = 0.1\n",
        "conversion_rate_B = 0.15\n",
        "\n",
        "# Sample sizes for each group\n",
        "sample_size_A = 1000\n",
        "sample_size_B = 1000\n",
        "\n",
        "# Generate random conversions for Version A and Version B\n",
        "conversions_A = np.random.choice([0, 1], size=sample_size_A, p=[1 - conversion_rate_A, conversion_rate_A])\n",
        "conversions_B = np.random.choice([0, 1], size=sample_size_B, p=[1 - conversion_rate_B, conversion_rate_B])\n",
        "\n",
        "# Create a DataFrame to store the data\n",
        "data = pd.DataFrame({\n",
        "    'Version': ['A'] * sample_size_A + ['B'] * sample_size_B,\n",
        "    'Conversions': np.concatenate([conversions_A, conversions_B])\n",
        "})\n",
        "\n",
        "# Calculate conversion rates for each version\n",
        "conversion_rates = data.groupby('Version')['Conversions'].mean()\n",
        "\n",
        "# Perform two-sample t-test to compare the conversion rates\n",
        "t_stat, p_value = ttest_ind(conversions_A, conversions_B)\n",
        "\n",
        "# Print the results\n",
        "print(\"Conversion Rates:\")\n",
        "print(conversion_rates)\n",
        "print(\"\\nTwo-Sample T-Test:\")\n",
        "print(f\"T-statistic: {t_stat}\")\n",
        "print(f\"P-value: {p_value}\")\n",
        "\n",
        "# Interpret the results\n",
        "if p_value < 0.05:\n",
        "    print(\"\\nResult: There is a statistically significant difference in conversion rates between Version A and Version B.\")\n",
        "    if conversion_rates['B'] > conversion_rates['A']:\n",
        "        print(\"Recommendation: Implement Version B as the new default homepage.\")\n",
        "    else:\n",
        "        print(\"Recommendation: Further iterations or testing with different variations may be needed.\")\n",
        "else:\n",
        "    print(\"\\nResult: There is no statistically significant difference in conversion rates between Version A and Version B.\")\n",
        "    print(\"Recommendation: Further iterations or testing with different variations may be needed.\")\n"
      ]
    }
  ]
}